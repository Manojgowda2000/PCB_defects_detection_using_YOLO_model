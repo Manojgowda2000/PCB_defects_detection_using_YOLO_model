{
 "cells": [
  {
   "cell_type": "code",
   "execution_count": 5,
   "metadata": {},
   "outputs": [
    {
     "name": "stdout",
     "output_type": "stream",
     "text": [
      "Collecting declxml\n",
      "  Downloading declxml-1.1.3.tar.gz (12 kB)\n",
      "  Preparing metadata (setup.py): started\n",
      "  Preparing metadata (setup.py): finished with status 'done'\n",
      "Collecting typing (from declxml)\n",
      "  Downloading typing-3.7.4.3.tar.gz (78 kB)\n",
      "     ---------------------------------------- 0.0/78.6 kB ? eta -:--:--\n",
      "     ---------------------------------------- 78.6/78.6 kB 2.2 MB/s eta 0:00:00\n",
      "  Preparing metadata (setup.py): started\n",
      "  Preparing metadata (setup.py): finished with status 'done'\n",
      "Building wheels for collected packages: declxml, typing\n",
      "  Building wheel for declxml (setup.py): started\n",
      "  Building wheel for declxml (setup.py): finished with status 'done'\n",
      "  Created wheel for declxml: filename=declxml-1.1.3-py3-none-any.whl size=12315 sha256=6dac6ea5259cbb54eee1bdd8914cc5740941f7dba6147fdfa851fcf64cc870bd\n",
      "  Stored in directory: c:\\users\\manoj\\appdata\\local\\pip\\cache\\wheels\\87\\db\\14\\65ae20a376f224bdcc1a510ada180ca25e78ea5f9f56ab955a\n",
      "  Building wheel for typing (setup.py): started\n",
      "  Building wheel for typing (setup.py): finished with status 'done'\n",
      "  Created wheel for typing: filename=typing-3.7.4.3-py3-none-any.whl size=26327 sha256=c742678681e4ded6a97be4762b6931838b864af923399c26556ca1d597288778\n",
      "  Stored in directory: c:\\users\\manoj\\appdata\\local\\pip\\cache\\wheels\\12\\98\\52\\2bffe242a9a487f00886e43b8ed8dac46456702e11a0d6abef\n",
      "Successfully built declxml typing\n",
      "Installing collected packages: typing, declxml\n",
      "Successfully installed declxml-1.1.3 typing-3.7.4.3\n"
     ]
    }
   ],
   "source": [
    "!pip install declxml"
   ]
  },
  {
   "cell_type": "code",
   "execution_count": 6,
   "metadata": {},
   "outputs": [],
   "source": [
    "import os\n",
    "from transformer import Transformer\n",
    "from objectmapper import ObjectMapper\n",
    "import declxml as xml\n",
    "os.chdir(\"G:/pcb_defect_detection/XmlToTxt\")\n",
    "!python xmltotxt.py -c classes.txt -xml xml -out out"
   ]
  },
  {
   "cell_type": "code",
   "execution_count": 7,
   "metadata": {},
   "outputs": [],
   "source": [
    "import os\n",
    "from random import choice\n",
    "import shutil\n",
    "def to_v5_directories(images_train_path,images_val_path,labels_train_path,labels_val_path, dataset_source):\n",
    "    imgs =[]\n",
    "    xmls =[]\n",
    "    trainPath = images_train_path\n",
    "    valPath =  images_val_path\n",
    "    crsPath = dataset_source\n",
    "    train_ratio = 0.8\n",
    "    val_ratio = 0.2\n",
    "    totalImgCount = len(os.listdir(crsPath))/2\n",
    "    for (dirname, dirs, files) in os.walk(crsPath):\n",
    "        for filename in files:\n",
    "            if filename.endswith('.txt'):\n",
    "                xmls.append(filename)\n",
    "            else:\n",
    "                imgs.append(filename)\n",
    "    countForTrain = int(len(imgs)*train_ratio)\n",
    "    countForVal = int(len(imgs)*val_ratio)\n",
    "    trainimagePath = images_train_path\n",
    "    trainlabelPath = labels_train_path\n",
    "    valimagePath = images_val_path\n",
    "    vallabelPath = labels_val_path\n",
    "    for x in range(countForTrain):\n",
    "        fileJpg = choice(imgs)\n",
    "        fileXml = fileJpg[:-4] +'.txt'\n",
    "        shutil.copy(os.path.join(crsPath, fileJpg), os.path.join(trainimagePath, fileJpg))\n",
    "        shutil.copy(os.path.join(crsPath, fileXml), os.path.join(trainlabelPath, fileXml))\n",
    "        imgs.remove(fileJpg)\n",
    "        xmls.remove(fileXml)\n",
    "    for x in range(countForVal):\n",
    "        fileJpg = choice(imgs) \n",
    "        fileXml = fileJpg[:-4] +'.txt' \n",
    "        shutil.copy(os.path.join(crsPath, fileJpg), os.path.join(valimagePath, fileJpg))\n",
    "        shutil.copy(os.path.join(crsPath, fileXml), os.path.join(vallabelPath, fileXml))\n",
    "        imgs.remove(fileJpg)\n",
    "        xmls.remove(fileXml)\n",
    "    print(\"Training images are : \",countForTrain)\n",
    "    print(\"Validation images are : \",countForVal)"
   ]
  },
  {
   "cell_type": "code",
   "execution_count": 8,
   "metadata": {},
   "outputs": [
    {
     "data": {
      "text/plain": [
       "'G:\\\\pcb_defect_detection'"
      ]
     },
     "execution_count": 8,
     "metadata": {},
     "output_type": "execute_result"
    }
   ],
   "source": [
    "os.chdir(\"G:/pcb_defect_detection\")\n",
    "os.getcwd()"
   ]
  },
  {
   "cell_type": "code",
   "execution_count": 14,
   "metadata": {},
   "outputs": [
    {
     "name": "stdout",
     "output_type": "stream",
     "text": [
      "Training images are :  92\n",
      "Validation images are :  23\n"
     ]
    }
   ],
   "source": [
    "to_v5_directories(\"dataset/images/train\",\"dataset/images/val\",\"dataset/labels/train\",\"dataset/labels/val\", \"Annotations/Spurious_copper\")"
   ]
  }
 ],
 "metadata": {
  "kernelspec": {
   "display_name": "base",
   "language": "python",
   "name": "python3"
  },
  "language_info": {
   "codemirror_mode": {
    "name": "ipython",
    "version": 3
   },
   "file_extension": ".py",
   "mimetype": "text/x-python",
   "name": "python",
   "nbconvert_exporter": "python",
   "pygments_lexer": "ipython3",
   "version": "3.12.4"
  }
 },
 "nbformat": 4,
 "nbformat_minor": 2
}
